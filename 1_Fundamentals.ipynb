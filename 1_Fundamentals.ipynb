{
  "nbformat": 4,
  "nbformat_minor": 0,
  "metadata": {
    "colab": {
      "provenance": [],
      "authorship_tag": "ABX9TyOBtwTKwK1wCE1kI2SOzY6M",
      "include_colab_link": true
    },
    "kernelspec": {
      "name": "python3",
      "display_name": "Python 3"
    },
    "language_info": {
      "name": "python"
    }
  },
  "cells": [
    {
      "cell_type": "markdown",
      "metadata": {
        "id": "view-in-github",
        "colab_type": "text"
      },
      "source": [
        "<a href=\"https://colab.research.google.com/github/Mehar-Shafaat-Ullah/Python-Codes-/blob/main/1_Fundamentals.ipynb\" target=\"_parent\"><img src=\"https://colab.research.google.com/assets/colab-badge.svg\" alt=\"Open In Colab\"/></a>"
      ]
    },
    {
      "cell_type": "markdown",
      "source": [
        "1.Python Output"
      ],
      "metadata": {
        "id": "cSP9-jKPI4_i"
      }
    },
    {
      "cell_type": "code",
      "execution_count": null,
      "metadata": {
        "colab": {
          "base_uri": "https://localhost:8080/"
        },
        "id": "JzY_wtHIH0Y6",
        "outputId": "a5f5ba67-ca70-4f5c-a8a9-9296c697b017"
      },
      "outputs": [
        {
          "output_type": "stream",
          "name": "stdout",
          "text": [
            "Hello World\n"
          ]
        }
      ],
      "source": [
        "#Python is a case sensitive language\n",
        "print(\"Hello World\")"
      ]
    },
    {
      "cell_type": "code",
      "source": [
        "print(\"Mehar Sahafaat Ullah\")"
      ],
      "metadata": {
        "colab": {
          "base_uri": "https://localhost:8080/"
        },
        "id": "KWeGyl7VJK_p",
        "outputId": "6ec893cd-45ff-4033-ec4c-d6c7ab09e956"
      },
      "execution_count": null,
      "outputs": [
        {
          "output_type": "stream",
          "name": "stdout",
          "text": [
            "Mehar Sahafaat Ullah\n"
          ]
        }
      ]
    },
    {
      "cell_type": "code",
      "source": [
        "print(Mehar Shafaat Ullah)"
      ],
      "metadata": {
        "colab": {
          "base_uri": "https://localhost:8080/",
          "height": 106
        },
        "id": "_3JDzm82Jnoa",
        "outputId": "b606275e-fdb5-40ec-a258-04c120923f44"
      },
      "execution_count": null,
      "outputs": [
        {
          "output_type": "error",
          "ename": "SyntaxError",
          "evalue": "invalid syntax. Perhaps you forgot a comma? (<ipython-input-3-8e7537cebd94>, line 1)",
          "traceback": [
            "\u001b[0;36m  File \u001b[0;32m\"<ipython-input-3-8e7537cebd94>\"\u001b[0;36m, line \u001b[0;32m1\u001b[0m\n\u001b[0;31m    print(Mehar Shafaat Ullah)\u001b[0m\n\u001b[0m          ^\u001b[0m\n\u001b[0;31mSyntaxError\u001b[0m\u001b[0;31m:\u001b[0m invalid syntax. Perhaps you forgot a comma?\n"
          ]
        }
      ]
    },
    {
      "cell_type": "code",
      "source": [
        "print(7.2)\n",
        "print(True)"
      ],
      "metadata": {
        "colab": {
          "base_uri": "https://localhost:8080/"
        },
        "id": "ctLQG3qNJvj3",
        "outputId": "7988e284-bf6f-4d14-909c-d2f89c1fa6f0"
      },
      "execution_count": null,
      "outputs": [
        {
          "output_type": "stream",
          "name": "stdout",
          "text": [
            "7.2\n",
            "True\n"
          ]
        }
      ]
    },
    {
      "cell_type": "code",
      "source": [
        "print('hello wolrld' ,1,2,3,4.5,True)"
      ],
      "metadata": {
        "colab": {
          "base_uri": "https://localhost:8080/"
        },
        "id": "qSkGRAQHJ_7T",
        "outputId": "059e5a6b-2721-49dc-9116-77f6affc000b"
      },
      "execution_count": null,
      "outputs": [
        {
          "output_type": "stream",
          "name": "stdout",
          "text": [
            "hello wolrld 1 2 3 4.5 True\n"
          ]
        }
      ]
    },
    {
      "cell_type": "code",
      "source": [
        "print('hello world',1,4.5,True,sep = '/')"
      ],
      "metadata": {
        "colab": {
          "base_uri": "https://localhost:8080/"
        },
        "id": "XEiGuhuNKNkF",
        "outputId": "d31e3826-2e75-46e7-b28b-db17ec500e21"
      },
      "execution_count": null,
      "outputs": [
        {
          "output_type": "stream",
          "name": "stdout",
          "text": [
            "hello world/1/4.5/True\n"
          ]
        }
      ]
    },
    {
      "cell_type": "code",
      "source": [
        "print('hello',end='-')\n",
        "print('world')"
      ],
      "metadata": {
        "colab": {
          "base_uri": "https://localhost:8080/"
        },
        "id": "g-Mjm54_K3Fs",
        "outputId": "863301a5-5c62-4969-e487-1b1f07c832dd"
      },
      "execution_count": null,
      "outputs": [
        {
          "output_type": "stream",
          "name": "stdout",
          "text": [
            "hello-world\n"
          ]
        }
      ]
    },
    {
      "cell_type": "markdown",
      "source": [
        "2.Data Types"
      ],
      "metadata": {
        "id": "P8D70MvyNN6R"
      }
    },
    {
      "cell_type": "code",
      "source": [
        "#integer\n",
        "print(8)\n",
        "print(1e309)\n",
        "#float\n",
        "print(1.7e309)\n",
        "#string\n",
        "print('hello world')\n",
        "#boolean\n",
        "print(True)\n",
        "#complex Number\n",
        "print(5+6j)"
      ],
      "metadata": {
        "colab": {
          "base_uri": "https://localhost:8080/"
        },
        "id": "AiZqoc1AM8qS",
        "outputId": "a3e6eb3e-c0b2-466b-8db5-6e9bcb5ed08c"
      },
      "execution_count": null,
      "outputs": [
        {
          "output_type": "stream",
          "name": "stdout",
          "text": [
            "8\n",
            "inf\n",
            "inf\n",
            "hello world\n",
            "True\n",
            "(5+6j)\n"
          ]
        }
      ]
    },
    {
      "cell_type": "code",
      "source": [
        "#list\n",
        "print([1,2,3,4,5])\n",
        "#Tuple\n",
        "print((1,2,3,4,5))\n",
        "#Set\n",
        "print({1,2,3,4,5})\n",
        "#Dictionary\n",
        "print({1,2,3,4,5})"
      ],
      "metadata": {
        "colab": {
          "base_uri": "https://localhost:8080/"
        },
        "id": "T4N4KNrMNTem",
        "outputId": "f2b831cd-3872-4034-c4f1-0ab5ea2f48d7"
      },
      "execution_count": null,
      "outputs": [
        {
          "output_type": "stream",
          "name": "stdout",
          "text": [
            "[1, 2, 3, 4, 5]\n",
            "(1, 2, 3, 4, 5)\n",
            "{1, 2, 3, 4, 5}\n",
            "{1, 2, 3, 4, 5}\n"
          ]
        }
      ]
    },
    {
      "cell_type": "code",
      "source": [
        "#type Function\n",
        "type(6+6j)"
      ],
      "metadata": {
        "colab": {
          "base_uri": "https://localhost:8080/"
        },
        "id": "qfe-VqRpb4vt",
        "outputId": "3032c508-6602-4509-cc0e-a66df6dba426"
      },
      "execution_count": null,
      "outputs": [
        {
          "output_type": "execute_result",
          "data": {
            "text/plain": [
              "complex"
            ]
          },
          "metadata": {},
          "execution_count": 16
        }
      ]
    },
    {
      "cell_type": "markdown",
      "source": [
        "3.Variables"
      ],
      "metadata": {
        "id": "64eKDBkpbxuX"
      }
    },
    {
      "cell_type": "code",
      "source": [
        " print(\"shafaat\")"
      ],
      "metadata": {
        "id": "mvz2uLG_cLPK",
        "colab": {
          "base_uri": "https://localhost:8080/"
        },
        "outputId": "671564f3-7b1e-4f10-c6ac-1190e8b66b31"
      },
      "execution_count": null,
      "outputs": [
        {
          "output_type": "stream",
          "name": "stdout",
          "text": [
            "shafaat\n"
          ]
        }
      ]
    },
    {
      "cell_type": "code",
      "source": [
        "a=b=c=5\n",
        "print(a,b,c)"
      ],
      "metadata": {
        "id": "SGk98HzjQz1x",
        "colab": {
          "base_uri": "https://localhost:8080/"
        },
        "outputId": "15351230-e4ab-4152-98dd-5b7fbd855c94"
      },
      "execution_count": null,
      "outputs": [
        {
          "output_type": "stream",
          "name": "stdout",
          "text": [
            "5 5 5\n"
          ]
        }
      ]
    },
    {
      "cell_type": "code",
      "source": [
        "a,b,c=2,3,4\n",
        "print(a,b,c)\n"
      ],
      "metadata": {
        "colab": {
          "base_uri": "https://localhost:8080/"
        },
        "id": "UYD6hvlXo42n",
        "outputId": "7376e45e-b528-4692-88a5-14181a2cba20"
      },
      "execution_count": null,
      "outputs": [
        {
          "output_type": "stream",
          "name": "stdout",
          "text": [
            "2 3 4\n"
          ]
        }
      ]
    },
    {
      "cell_type": "code",
      "source": [
        "#these above variables called stylish declaration techniques"
      ],
      "metadata": {
        "id": "Ql9z-SYRpJL6"
      },
      "execution_count": null,
      "outputs": []
    },
    {
      "cell_type": "markdown",
      "source": [
        "4.Keywords & Identifiers"
      ],
      "metadata": {
        "id": "uAQGFS0XZkRa"
      }
    },
    {
      "cell_type": "code",
      "source": [
        "#keywords"
      ],
      "metadata": {
        "id": "EFQOZe7UqNvC"
      },
      "execution_count": null,
      "outputs": []
    },
    {
      "cell_type": "markdown",
      "source": [
        "#Identiiers\n",
        "# ->identifier cant start with digit\n",
        "# 1name = 10 (wrong)\n",
        "# name1 = 10 (right)\n",
        "# ->we cant use special char (use jusr #underscore _ not-)\n",
        "#name-1 = 10"
      ],
      "metadata": {
        "id": "o8VVBYvfZzF8"
      }
    },
    {
      "cell_type": "markdown",
      "source": [
        "5.User Input"
      ],
      "metadata": {
        "id": "mXxMKGZye0sB"
      }
    },
    {
      "cell_type": "code",
      "source": [
        "#static software and dynamic software\n",
        "#in static we can take just information etc lilke claender\n",
        "#in dynamic soft we give input and then it give us desired output"
      ],
      "metadata": {
        "id": "HGLeDxbDZutA"
      },
      "execution_count": null,
      "outputs": []
    },
    {
      "cell_type": "code",
      "source": [
        " fnaum=input(\"Enter Email\")\n",
        " print(fnaum)"
      ],
      "metadata": {
        "id": "KXrJG9Prf7js",
        "colab": {
          "base_uri": "https://localhost:8080/",
          "height": 53
        },
        "outputId": "33d6a859-9dd9-4856-8578-389c447c4f1f"
      },
      "execution_count": null,
      "outputs": [
        {
          "name": "stdout",
          "output_type": "stream",
          "text": [
            "Enter Email34\n"
          ]
        },
        {
          "output_type": "execute_result",
          "data": {
            "text/plain": [
              "'34'"
            ],
            "application/vnd.google.colaboratory.intrinsic+json": {
              "type": "string"
            }
          },
          "metadata": {},
          "execution_count": 7
        }
      ]
    },
    {
      "cell_type": "code",
      "source": [
        "fnum = input(\"Enter first name\")\n",
        "sname = input(\"Enter second name\")\n",
        "print(type(fnum),type(sname))\n",
        "result=int(fnum)+int(sname)\n",
        "print(result)\n",
        "type(result)\n",
        "print(type(fnum))"
      ],
      "metadata": {
        "colab": {
          "base_uri": "https://localhost:8080/"
        },
        "id": "LSv6RU4LhS-r",
        "outputId": "47235ba2-ad1b-4097-9e1e-6643a50ca536"
      },
      "execution_count": null,
      "outputs": [
        {
          "output_type": "stream",
          "name": "stdout",
          "text": [
            "Enter first name4\n",
            "Enter second name4\n",
            "<class 'str'> <class 'str'>\n",
            "8\n",
            "<class 'str'>\n"
          ]
        }
      ]
    },
    {
      "cell_type": "markdown",
      "source": [
        "6.Type Conversion"
      ],
      "metadata": {
        "id": "zl24snhWjuWd"
      }
    },
    {
      "cell_type": "code",
      "source": [
        "#implicite and explisite conversion"
      ],
      "metadata": {
        "id": "b85r5XSnhud7"
      },
      "execution_count": null,
      "outputs": []
    },
    {
      "cell_type": "code",
      "source": [
        "print(5+5.6)\n",
        "print(type(5),type(5.6))"
      ],
      "metadata": {
        "colab": {
          "base_uri": "https://localhost:8080/"
        },
        "id": "Pd-66f4dlH8a",
        "outputId": "06877833-27f9-40d2-c4e4-0b516c7ab604"
      },
      "execution_count": null,
      "outputs": [
        {
          "output_type": "stream",
          "name": "stdout",
          "text": [
            "10.6\n",
            "<class 'int'> <class 'float'>\n"
          ]
        }
      ]
    },
    {
      "cell_type": "code",
      "source": [
        "print(4+\"6\")"
      ],
      "metadata": {
        "colab": {
          "base_uri": "https://localhost:8080/",
          "height": 141
        },
        "id": "mmx7XNV_lXV1",
        "outputId": "cb9ef7b5-8374-4f32-e15c-3fff83adff91"
      },
      "execution_count": null,
      "outputs": [
        {
          "output_type": "error",
          "ename": "TypeError",
          "evalue": "unsupported operand type(s) for +: 'int' and 'str'",
          "traceback": [
            "\u001b[0;31m---------------------------------------------------------------------------\u001b[0m",
            "\u001b[0;31mTypeError\u001b[0m                                 Traceback (most recent call last)",
            "\u001b[0;32m<ipython-input-17-29c22adad209>\u001b[0m in \u001b[0;36m<cell line: 1>\u001b[0;34m()\u001b[0m\n\u001b[0;32m----> 1\u001b[0;31m \u001b[0mprint\u001b[0m\u001b[0;34m(\u001b[0m\u001b[0;36m4\u001b[0m\u001b[0;34m+\u001b[0m\u001b[0;34m\"6\"\u001b[0m\u001b[0;34m)\u001b[0m\u001b[0;34m\u001b[0m\u001b[0;34m\u001b[0m\u001b[0m\n\u001b[0m",
            "\u001b[0;31mTypeError\u001b[0m: unsupported operand type(s) for +: 'int' and 'str'"
          ]
        }
      ]
    },
    {
      "cell_type": "code",
      "source": [
        "#Explicite\n",
        "#str->int\n",
        "int(\"4\")\n",
        "type(int(\"4\"))"
      ],
      "metadata": {
        "colab": {
          "base_uri": "https://localhost:8080/"
        },
        "id": "7fAeBpooljUy",
        "outputId": "d222df9d-a195-40d3-8a83-78ea400feb87"
      },
      "execution_count": null,
      "outputs": [
        {
          "output_type": "execute_result",
          "data": {
            "text/plain": [
              "int"
            ]
          },
          "metadata": {},
          "execution_count": 21
        }
      ]
    },
    {
      "cell_type": "code",
      "source": [
        "#But\n",
        "int(4+5j)\n"
      ],
      "metadata": {
        "colab": {
          "base_uri": "https://localhost:8080/",
          "height": 176
        },
        "id": "LpZWeqQPls9F",
        "outputId": "0163ef31-d065-4df7-d09f-5e7acde32059"
      },
      "execution_count": null,
      "outputs": [
        {
          "output_type": "error",
          "ename": "TypeError",
          "evalue": "int() argument must be a string, a bytes-like object or a real number, not 'complex'",
          "traceback": [
            "\u001b[0;31m---------------------------------------------------------------------------\u001b[0m",
            "\u001b[0;31mTypeError\u001b[0m                                 Traceback (most recent call last)",
            "\u001b[0;32m<ipython-input-22-10b683db3495>\u001b[0m in \u001b[0;36m<cell line: 2>\u001b[0;34m()\u001b[0m\n\u001b[1;32m      1\u001b[0m \u001b[0;31m#But\u001b[0m\u001b[0;34m\u001b[0m\u001b[0;34m\u001b[0m\u001b[0m\n\u001b[0;32m----> 2\u001b[0;31m \u001b[0mint\u001b[0m\u001b[0;34m(\u001b[0m\u001b[0;36m4\u001b[0m\u001b[0;34m+\u001b[0m\u001b[0;36m5j\u001b[0m\u001b[0;34m)\u001b[0m\u001b[0;34m\u001b[0m\u001b[0;34m\u001b[0m\u001b[0m\n\u001b[0m",
            "\u001b[0;31mTypeError\u001b[0m: int() argument must be a string, a bytes-like object or a real number, not 'complex'"
          ]
        }
      ]
    },
    {
      "cell_type": "code",
      "source": [
        "#int->str\n",
        "str(5)"
      ],
      "metadata": {
        "colab": {
          "base_uri": "https://localhost:8080/",
          "height": 35
        },
        "id": "pTxIcSq7mBRu",
        "outputId": "dd7063e1-febe-4172-d4ae-e056ea07723f"
      },
      "execution_count": null,
      "outputs": [
        {
          "output_type": "execute_result",
          "data": {
            "text/plain": [
              "'5'"
            ],
            "application/vnd.google.colaboratory.intrinsic+json": {
              "type": "string"
            }
          },
          "metadata": {},
          "execution_count": 23
        }
      ]
    },
    {
      "cell_type": "code",
      "source": [
        "#float\n",
        "could not cnvert str to float\n",
        "float(\"exple\")"
      ],
      "metadata": {
        "colab": {
          "base_uri": "https://localhost:8080/",
          "height": 106
        },
        "id": "qc5NDtJBmIhr",
        "outputId": "99a9dfe7-307c-4332-b6bf-04284a996f52"
      },
      "execution_count": null,
      "outputs": [
        {
          "output_type": "error",
          "ename": "SyntaxError",
          "evalue": "invalid syntax (<ipython-input-26-00b5524f507d>, line 2)",
          "traceback": [
            "\u001b[0;36m  File \u001b[0;32m\"<ipython-input-26-00b5524f507d>\"\u001b[0;36m, line \u001b[0;32m2\u001b[0m\n\u001b[0;31m    could not cnvert str to float\u001b[0m\n\u001b[0m              ^\u001b[0m\n\u001b[0;31mSyntaxError\u001b[0m\u001b[0;31m:\u001b[0m invalid syntax\n"
          ]
        }
      ]
    },
    {
      "cell_type": "markdown",
      "source": [
        "7.Literls"
      ],
      "metadata": {
        "id": "pl-7tAaDo51K"
      }
    },
    {
      "cell_type": "code",
      "source": [
        "a = 0b1010 #binary literal\n",
        "b = 100  #decimal\n",
        "c = 0o310  #Octal\n",
        "d = 0x12c  #Hexadecimal\n",
        "\n",
        "#Float Literal\n",
        "float_1 = 10.5\n",
        "float_2 = 1.5e2\n",
        "float_3 = 1.5e-3\n",
        "float_4 = 'a'\n",
        "\n",
        "#Complex Literal\n",
        "x = 3+4j\n",
        "\n",
        "print(a,b,c,d,sep='-')\n",
        "print(float_1,float_2,float_3,float_4,sep='-')\n",
        "print(x,x.imag,x.real,sep='-')\n",
        "\n",
        "#String\n",
        "string = 'this is python'\n",
        "strings = \"this is pyhton\"\n",
        "char = 'c'\n",
        "multiline_str = \"\"\"this is my ocde for multiline code purpose\"\"\"\n",
        "unicode = u\"\\U0001f600\\U0001F606\\U0001F923\"\n",
        "raw_str = r\"raw \\n string\"\n",
        "\n",
        "print(string)\n",
        "print(strings)\n",
        "print(char)\n",
        "print(multiline_str)\n",
        "print(unicode)\n",
        "print(raw_str)"
      ],
      "metadata": {
        "colab": {
          "base_uri": "https://localhost:8080/"
        },
        "id": "iJtjNHStmRiu",
        "outputId": "dfc15bf7-02ba-4a9d-e16c-d2483be67c5b"
      },
      "execution_count": null,
      "outputs": [
        {
          "output_type": "stream",
          "name": "stdout",
          "text": [
            "10-100-200-300\n",
            "10.5-150.0-0.0015-a\n",
            "(3+4j)-4.0-3.0\n",
            "this is python\n",
            "this is pyhton\n",
            "c\n",
            "this is my ocde for multiline code purpose\n",
            "😀😆🤣\n",
            "raw \\n string\n"
          ]
        }
      ]
    },
    {
      "cell_type": "code",
      "source": [
        "#Boolean\n",
        "a = True+4\n",
        "b = False+10\n",
        "print(a,b)"
      ],
      "metadata": {
        "colab": {
          "base_uri": "https://localhost:8080/"
        },
        "id": "mhOi47Etr0Oy",
        "outputId": "55c4c2aa-9eec-4701-9fe4-7de81b1db016"
      },
      "execution_count": null,
      "outputs": [
        {
          "output_type": "stream",
          "name": "stdout",
          "text": [
            "5 10\n"
          ]
        }
      ]
    },
    {
      "cell_type": "code",
      "source": [
        "#None\n",
        "k = None\n",
        "a = 5\n",
        "b = 6\n",
        "print(a, b)"
      ],
      "metadata": {
        "colab": {
          "base_uri": "https://localhost:8080/"
        },
        "id": "jma7SsiWbOGb",
        "outputId": "afbe1bac-1a89-494f-f36c-9f8865f7a88b"
      },
      "execution_count": null,
      "outputs": [
        {
          "output_type": "stream",
          "name": "stdout",
          "text": [
            "5 6\n"
          ]
        }
      ]
    },
    {
      "cell_type": "code",
      "source": [
        "c = input(int(input(\"enter\")))\n",
        "print(c)"
      ],
      "metadata": {
        "colab": {
          "base_uri": "https://localhost:8080/"
        },
        "id": "TObucgkUb-Xd",
        "outputId": "d43fcad7-b5e6-4f11-db34-ddda88c1699c"
      },
      "execution_count": null,
      "outputs": [
        {
          "output_type": "stream",
          "name": "stdout",
          "text": [
            "enter4\n",
            "45\n",
            "5\n"
          ]
        }
      ]
    },
    {
      "cell_type": "code",
      "source": [
        "#QUESTIONS & Solutions"
      ],
      "metadata": {
        "id": "EnSqOXuDctjM"
      },
      "execution_count": null,
      "outputs": []
    },
    {
      "cell_type": "code",
      "source": [
        "#function to convert celcius to farenheit\n",
        "def celcius_to_farenheit(celcius):\n",
        "  farenheit = (celcius*9/5)+32\n",
        "  return farenheit\n",
        "\n",
        "#input: temperature in celcius\n",
        "celcius = float(input(\"Enter temperature in celcius: \"))\n",
        "\n",
        "#Conversion\n",
        "farenheit =celcius_to_farenheit(celcius)\n",
        "\n",
        "#output\n",
        "print(f\"{celcius} C is equal to {farenheit} F\")"
      ],
      "metadata": {
        "colab": {
          "base_uri": "https://localhost:8080/"
        },
        "id": "xwhdZE-alrPz",
        "outputId": "b170f476-f82e-4f02-bfc2-d03eed5d39e8"
      },
      "execution_count": null,
      "outputs": [
        {
          "output_type": "stream",
          "name": "stdout",
          "text": [
            "Enter temperature in celcius: 54\n",
            "54.0 C is equal to 129.2 F\n"
          ]
        }
      ]
    },
    {
      "cell_type": "code",
      "source": [
        "#2\n",
        "num_1= input(\"Enter first number\")\n",
        "num_2=input(\"Enter second number\")\n",
        "num_1=num_2\n",
        "num_2=num_1\n",
        "print(num_1,num_2)"
      ],
      "metadata": {
        "colab": {
          "base_uri": "https://localhost:8080/"
        },
        "id": "E9gtqqQKndff",
        "outputId": "fecd2b25-da08-469a-9102-da20906c6573"
      },
      "execution_count": null,
      "outputs": [
        {
          "output_type": "stream",
          "name": "stdout",
          "text": [
            "Enter first number4\n",
            "Enter second number3\n",
            "3 3\n"
          ]
        }
      ]
    },
    {
      "cell_type": "code",
      "source": [
        "#3\n",
        "#inputs from user\n",
        "print(\"Enter the point of first coordinats as x_1,and y_1 \")\n",
        "x_1=int(input())\n",
        "y_1=int(input())\n",
        "print(\"Enter the points of second coordinats as x_2, and y_2\")\n",
        "x_2=int(input())\n",
        "y_2=int(input())\n",
        "\n",
        "#formla of Euclidean distance\n",
        "Euclidean_distance = ((x_2 - x_1)**2 + (y_2 - y_1)**2)**0.5\n",
        "\n",
        "#ouput\n",
        "print(Euclidean_distance)"
      ],
      "metadata": {
        "colab": {
          "base_uri": "https://localhost:8080/"
        },
        "id": "g5AStGxronxv",
        "outputId": "eba0b74f-694a-4830-c142-47f74b6379e8"
      },
      "execution_count": null,
      "outputs": [
        {
          "output_type": "stream",
          "name": "stdout",
          "text": [
            "Enter the point of first coordinats as x_1,and y_1 \n",
            "4\n",
            "3\n",
            "Enter the points of second coordinats as x_2, and y_2\n",
            "2\n",
            "1\n",
            "2.8284271247461903\n"
          ]
        }
      ]
    },
    {
      "cell_type": "code",
      "source": [
        "#5\n",
        "#inputs from user\n",
        "principle_value = input(\"Enter value of Principle: \")\n",
        "interest_rate= input(\"Enter interest rate: \")\n",
        "time_period =input(\"ENter the time period: \")\n",
        "\n",
        "#calculation of interest\n",
        "simple_interest = (int(principle_value)*int(interest_rate)*int(time_period))/100\n",
        "\n",
        "#output\n",
        "print(simple_interest)"
      ],
      "metadata": {
        "colab": {
          "base_uri": "https://localhost:8080/",
          "height": 280
        },
        "id": "GuJLgaURtt_6",
        "outputId": "aef061c7-f8a0-4ea4-9610-1d2d7b579fe4"
      },
      "execution_count": null,
      "outputs": [
        {
          "name": "stdout",
          "output_type": "stream",
          "text": [
            "Enter value of Principle: 12000\n",
            "Enter interest rate: 12%\n",
            "ENter the time period: 4\n"
          ]
        },
        {
          "output_type": "error",
          "ename": "ValueError",
          "evalue": "invalid literal for int() with base 10: '12%'",
          "traceback": [
            "\u001b[0;31m---------------------------------------------------------------------------\u001b[0m",
            "\u001b[0;31mValueError\u001b[0m                                Traceback (most recent call last)",
            "\u001b[0;32m<ipython-input-26-f2e13636a99c>\u001b[0m in \u001b[0;36m<cell line: 8>\u001b[0;34m()\u001b[0m\n\u001b[1;32m      6\u001b[0m \u001b[0;34m\u001b[0m\u001b[0m\n\u001b[1;32m      7\u001b[0m \u001b[0;31m#calculation of interest\u001b[0m\u001b[0;34m\u001b[0m\u001b[0;34m\u001b[0m\u001b[0m\n\u001b[0;32m----> 8\u001b[0;31m \u001b[0msimple_interest\u001b[0m \u001b[0;34m=\u001b[0m \u001b[0;34m(\u001b[0m\u001b[0mint\u001b[0m\u001b[0;34m(\u001b[0m\u001b[0mprinciple_value\u001b[0m\u001b[0;34m)\u001b[0m\u001b[0;34m*\u001b[0m\u001b[0mint\u001b[0m\u001b[0;34m(\u001b[0m\u001b[0minterest_rate\u001b[0m\u001b[0;34m)\u001b[0m\u001b[0;34m*\u001b[0m\u001b[0mint\u001b[0m\u001b[0;34m(\u001b[0m\u001b[0mtime_period\u001b[0m\u001b[0;34m)\u001b[0m\u001b[0;34m)\u001b[0m\u001b[0;34m/\u001b[0m\u001b[0;36m100\u001b[0m\u001b[0;34m\u001b[0m\u001b[0;34m\u001b[0m\u001b[0m\n\u001b[0m\u001b[1;32m      9\u001b[0m \u001b[0;34m\u001b[0m\u001b[0m\n\u001b[1;32m     10\u001b[0m \u001b[0;31m#output\u001b[0m\u001b[0;34m\u001b[0m\u001b[0;34m\u001b[0m\u001b[0m\n",
            "\u001b[0;31mValueError\u001b[0m: invalid literal for int() with base 10: '12%'"
          ]
        }
      ]
    },
    {
      "cell_type": "code",
      "source": [
        "# Input from user\n",
        "principal_value = float(input(\"Enter value of Principal: \"))\n",
        "interest_rate = float(input(\"Enter interest rate (in %): \"))\n",
        "time_period = float(input(\"Enter the time period (in years): \"))\n",
        "\n",
        "# Calculation of simple interest\n",
        "simple_interest = (principal_value * interest_rate * time_period) / 100\n",
        "\n",
        "# Output\n",
        "print(f\"On {principal_value} with {interest_rate}% interest rate for {time_period} years, the simple interest is {simple_interest}.\")\n"
      ],
      "metadata": {
        "colab": {
          "base_uri": "https://localhost:8080/"
        },
        "id": "mXAFBihVAsyy",
        "outputId": "8c8e80d5-6f9b-4456-fb59-ea877023a629"
      },
      "execution_count": null,
      "outputs": [
        {
          "output_type": "stream",
          "name": "stdout",
          "text": [
            "Enter value of Principal: 120000\n",
            "Enter interest rate (in %): 12\n",
            "Enter the time period (in years): 5\n",
            "On 120000.0 with 12.0% interest rate for 5.0 years, the simple interest is 72000.0.\n"
          ]
        }
      ]
    },
    {
      "cell_type": "code",
      "source": [
        "#6\n",
        "\n",
        "totall_legs = int(input(\"Enter totall legs: \"))\n",
        "totall_heads = int(input(\"Enter totall heads: \"))\n",
        "d=(totall_legs-2*totall_heads)/2\n",
        "c=totall_heads-d\n",
        "print(c,d)"
      ],
      "metadata": {
        "colab": {
          "base_uri": "https://localhost:8080/"
        },
        "id": "5Ps8lt1MEWl4",
        "outputId": "b759bae6-a2b9-4e0f-c947-78a3162eae3b"
      },
      "execution_count": null,
      "outputs": [
        {
          "output_type": "stream",
          "name": "stdout",
          "text": [
            "Enter totall legs: 12\n",
            "Enter totall heads: 4\n",
            "2.0 2.0\n"
          ]
        }
      ]
    },
    {
      "cell_type": "code",
      "source": [
        "#7\n",
        "n = int(input(\"Enter n number\"))\n",
        "sum = n*(n+1)*(2*n+1)/6\n",
        "print(sum)"
      ],
      "metadata": {
        "colab": {
          "base_uri": "https://localhost:8080/"
        },
        "id": "usT8OMraXSm3",
        "outputId": "910574b9-39c2-4e03-8d10-3da1d3b09993"
      },
      "execution_count": null,
      "outputs": [
        {
          "output_type": "stream",
          "name": "stdout",
          "text": [
            "Enter n number4\n",
            "30.0\n"
          ]
        }
      ]
    },
    {
      "cell_type": "code",
      "source": [
        "#7\n",
        "n = int(input(\"Enter a number: \"))\n",
        "sum_of_squares = 0\n",
        "for i in range(1,n+1):\n",
        "  sum_of_squares +=i**2\n",
        "print(sum_of_squares)"
      ],
      "metadata": {
        "colab": {
          "base_uri": "https://localhost:8080/"
        },
        "id": "TAVePkUjAac8",
        "outputId": "0944ee20-9eea-41ed-9467-b6c7968a0d1f"
      },
      "execution_count": null,
      "outputs": [
        {
          "output_type": "stream",
          "name": "stdout",
          "text": [
            "Enter a number: 3\n",
            "14\n"
          ]
        }
      ]
    },
    {
      "cell_type": "code",
      "source": [
        "#8\n",
        "a1 = int(input(\"Enter the first term\"))\n",
        "a2 = int(input(\"Enter the first term\"))\n",
        "Nth_number = int(input(\"Enter your nth number\"))\n",
        "Common_difference = a2-a1\n",
        "n_nomer = a1 + (Nth_number-1)*Common_difference\n",
        "print(n_nomer)"
      ],
      "metadata": {
        "colab": {
          "base_uri": "https://localhost:8080/"
        },
        "id": "qxTjgpv3D2SZ",
        "outputId": "3e785b65-0bc2-4203-be49-86ebfb5ef38a"
      },
      "execution_count": null,
      "outputs": [
        {
          "output_type": "stream",
          "name": "stdout",
          "text": [
            "Enter the first term2\n",
            "Enter the first term2\n",
            "Enter your nth number4\n",
            "2\n"
          ]
        }
      ]
    },
    {
      "cell_type": "code",
      "source": [
        "#9\n",
        "first_numerator =int(input(\"Enter numerator of first fraction: \"))\n",
        "first_denomerator = int(input(\"enter numerator of first fraction: \"))\n",
        "print(f\"your first fraction is: {first_numerator}/{first_denomerator} \")\n",
        "second_numerator = int(input(\"Enter numerator of second fraction: \"))\n",
        "second_denomerator = int(input(\"Enter denomerator of second fraction: \" ))\n",
        "print(f\"your fraction is: {second_numerator}/{second_denomerator}\")\n",
        "fraction_1 = first_numerator/first_denomerator\n",
        "fraction_2 = second_numerator/second_denomerator\n",
        "sum = fraction_1+fraction_2\n",
        "print(f\"The sum of fractions is {sum:.3f}\")"
      ],
      "metadata": {
        "colab": {
          "base_uri": "https://localhost:8080/"
        },
        "id": "e3VcntGzPfgQ",
        "outputId": "619fa0f3-29ff-44f1-af36-79825cbd2bc2"
      },
      "execution_count": null,
      "outputs": [
        {
          "output_type": "stream",
          "name": "stdout",
          "text": [
            "Enter numerator of first fraction: 3\n",
            "enter numerator of first fraction: 2\n",
            "your first fraction is: 3/2 \n",
            "Enter numerator of second fraction: 2\n",
            "Enter denomerator of second fraction: 3\n",
            "your fraction is: 2/3\n",
            "The sum of fractions is 2.167\n"
          ]
        }
      ]
    },
    {
      "cell_type": "code",
      "source": [
        "try:\n",
        "    # Input values from the user\n",
        "    numerator = float(input(\"Enter the numerator: \"))\n",
        "    denominator = float(input(\"Enter the denominator: \"))\n",
        "\n",
        "    # Perform the division\n",
        "    result = numerator / denominator\n",
        "\n",
        "    # Print the result\n",
        "    print(f\"The result of {numerator} divided by {denominator} is {result:.2f}\")\n",
        "\n",
        "except ValueError:\n",
        "    # Handle invalid input errors\n",
        "    print(\"Invalid input! Please enter numeric values.\")\n",
        "\n",
        "except ZeroDivisionError:\n",
        "    # Handle division by zero errors\n",
        "    print(\"Error: Cannot divide by zero.\")\n",
        "\n",
        "except Exception as e:\n",
        "    # Handle any other unexpected errors\n",
        "    print(f\"An unexpected error occurred: {e}\")\n"
      ],
      "metadata": {
        "colab": {
          "base_uri": "https://localhost:8080/"
        },
        "id": "6sqTHORHQ6m9",
        "outputId": "98cba814-3208-4203-a39b-ba8af08eb60c"
      },
      "execution_count": null,
      "outputs": [
        {
          "output_type": "stream",
          "name": "stdout",
          "text": [
            "Enter the numerator: /3\n",
            "Invalid input! Please enter numeric values.\n"
          ]
        }
      ]
    },
    {
      "cell_type": "code",
      "source": [
        "#10\n",
        "print(\"As given dimension of the milk tank\\n height = 20cm\\n length = 20cm\\n breadth = 20cm\")\n",
        "H,L,B = 20,20,20\n",
        "print(\"As given dimensions of glass\\n height = 3cm\\n radius = 1cm\\n\")\n",
        "h,r = 3,1\n",
        "print(\"Now we should find VOLUME of  rectangular milk tank first\")\n",
        "Volume_of_Tank = H*L*B\n",
        "print(f\"volume is: {Volume_of_Tank}\")\n",
        "print(\"NOw we should find VOLUME of cylenderical glass\")\n",
        "Volume_of_glass = h*12.5*r**2\n",
        "print(f\"volume is: {Volume_of_glass}\")\n",
        "Number_of_glasses = Volume_of_Tank / Volume_of_glass\n",
        "print(f\"totall number of glasses will be:\\n {Number_of_glasses:.2f}\")\n"
      ],
      "metadata": {
        "colab": {
          "base_uri": "https://localhost:8080/"
        },
        "id": "RKsfPRtWU7pq",
        "outputId": "d2dce522-88fa-481c-829f-6c2bf849cdf4"
      },
      "execution_count": null,
      "outputs": [
        {
          "output_type": "stream",
          "name": "stdout",
          "text": [
            "As given dimension of the milk tank\n",
            " height = 20cm\n",
            " length = 20cm\n",
            " breadth = 20cm\n",
            "As given dimensions of glass\n",
            " height = 3cm\n",
            " radius = 1cm\n",
            "\n",
            "Now we should find VOLUME of  rectangular milk tank first\n",
            "volume is: 8000\n",
            "NOw we should find VOLUME of cylenderical glass\n",
            "volume is: 37.5\n",
            "totall number of glasses will be:\n",
            " 213.33\n"
          ]
        }
      ]
    },
    {
      "cell_type": "code",
      "source": [],
      "metadata": {
        "id": "LkiiMp0qYHwj"
      },
      "execution_count": null,
      "outputs": []
    }
  ]
}